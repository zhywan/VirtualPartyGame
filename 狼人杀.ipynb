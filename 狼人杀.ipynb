{
 "cells": [
  {
   "cell_type": "code",
   "execution_count": 3,
   "metadata": {},
   "outputs": [],
   "source": [
    "import random\n",
    "import numpy as np"
   ]
  },
  {
   "cell_type": "code",
   "execution_count": 4,
   "metadata": {},
   "outputs": [],
   "source": [
    "class Person():\n",
    "    def __init__(self, name:str, age:int, male: bool):\n",
    "        self.name= name\n",
    "        self.age= age\n",
    "        self.is_male= male\n",
    "    @property\n",
    "    def _age(self):\n",
    "        return self. __age\n",
    "    @_age.setter\n",
    "    def _age(self,val):\n",
    "        if val<0:\n",
    "            raise ValueError(\"age should be non-negative\")\n",
    "        self.__char= val\n",
    "    \n",
    "    def __repr__(self):\n",
    "        return \"名字: %s, %s\" %(self.name,\"男\"if self.is_male else \"女\")"
   ]
  },
  {
   "cell_type": "code",
   "execution_count": 5,
   "metadata": {},
   "outputs": [
    {
     "name": "stdout",
     "output_type": "stream",
     "text": [
      "名字: sunshizuo, 男\n"
     ]
    }
   ],
   "source": [
    "print(Person(\"sunshizuo\", 18, True))"
   ]
  },
  {
   "cell_type": "code",
   "execution_count": 6,
   "metadata": {},
   "outputs": [],
   "source": [
    "class player():\n",
    "    def __init__(self,person, char:int):\n",
    "        self.person= person\n",
    "        self.char= char\n",
    "        self.alive= True\n",
    "        \n",
    "    def __repr__(self):\n",
    "        if self.char==0:\n",
    "            ans= \"平民\"\n",
    "        if self.char==1:\n",
    "            ans= \"预言家\"\n",
    "        if self.char==2:\n",
    "            ans= \"巫师\"\n",
    "        if self.char==3:\n",
    "            ans= \"狼人\"\n",
    "        return \"名字: %s, %s, 角色: %s\" %(self.person.name,\"男\"if self.person.is_male else \"女\", ans)\n",
    "    @property\n",
    "    def _char(self):\n",
    "        return self.__char\n",
    "\n",
    "    @_char.setter\n",
    "    def _char(self,val):\n",
    "        if val<0 or val>3:\n",
    "            raise ValueError(\"char should be limited\")  ###若出错，之后代码不再执行\n",
    "        self.__char= val"
   ]
  },
  {
   "cell_type": "code",
   "execution_count": 7,
   "metadata": {},
   "outputs": [],
   "source": [
    "sun= Person(\"sunshizhuo\",12,True)"
   ]
  },
  {
   "cell_type": "code",
   "execution_count": 8,
   "metadata": {},
   "outputs": [
    {
     "data": {
      "text/plain": [
       "名字: sunshizhuo, 男, 角色: 预言家"
      ]
     },
     "execution_count": 8,
     "metadata": {},
     "output_type": "execute_result"
    }
   ],
   "source": [
    "player(sun,1)"
   ]
  },
  {
   "cell_type": "code",
   "execution_count": null,
   "metadata": {},
   "outputs": [],
   "source": []
  },
  {
   "cell_type": "code",
   "execution_count": 135,
   "metadata": {},
   "outputs": [],
   "source": [
    "class murderer():\n",
    "    def __init__(self,num, *persons):\n",
    "        self.villiger= num//3\n",
    "        self.good= num//3\n",
    "        self.wolf= num//3\n",
    "        if num%3==1:\n",
    "            self.villiger+=1\n",
    "        elif num%3==2:\n",
    "            self.good+=1\n",
    "            self.wolf+=1\n",
    "        \n",
    "        self.players= [None for i in range(num)]\n",
    "        self.all_players= [None for i in range(num)]\n",
    "        for i in range(0,num):\n",
    "            if 0<=i<self.villiger:\n",
    "                self.players[i]= player(persons[i],0)\n",
    "                self.all_players[i]= player(persons[i],0)\n",
    "            elif i<self.good+ self.villiger:\n",
    "                role= random.randint(1,2)\n",
    "                self.players[i]= player(persons[i],role)\n",
    "                self.all_players[i]= player(persons[i],role)\n",
    "            else:\n",
    "                self.players[i]= player(persons[i],3)\n",
    "                self.all_players[i]= player(persons[i],3)\n",
    "        \n",
    "                \n",
    "    def find(self,array,name:str):\n",
    "        for i in range(0,len(array)):\n",
    "            if array[i].person.name == name:\n",
    "                return i\n",
    "        return None\n",
    "    \n",
    "    def mode(self, l):\n",
    "        l= sorted(l)\n",
    "        maxcnt=0\n",
    "        maxname=l[0]\n",
    "        cnt=1\n",
    "        for i in range(1,len(l)):\n",
    "            if l[i]==l[i-1]:\n",
    "                cnt+=1\n",
    "            else:\n",
    "                cnt=1\n",
    "            \n",
    "            if cnt>maxcnt:\n",
    "                maxcnt=cnt\n",
    "                maxname= l[i-1]\n",
    "        return maxname\n",
    "    def role(self, num):\n",
    "        if num==0:\n",
    "            return \"平民\"\n",
    "        elif num==1:\n",
    "            return \"预言家\"\n",
    "        elif num==2:\n",
    "            return \"巫师\"\n",
    "        else:\n",
    "            return \"狼人\"\n",
    "    \n",
    "    def murder(self, name:str):\n",
    "        index= self.find(self.players,name)\n",
    "        player= self.players.pop(index)\n",
    "        print(\"player: %s is murdered\" %player)\n",
    "        if player.char==0:\n",
    "            self.villiger-=1\n",
    "        elif player.char==1 or player.char==2:\n",
    "            self.good-=1\n",
    "        else:\n",
    "            self.wolf-=1\n",
    "\n",
    "    def prophet(self, name:str):\n",
    "        index= self.find(self.players,name)\n",
    "        c= self.players[index].char\n",
    "        print(\"他是的角色是{}\".format(self.role(c)))\n",
    "        \n",
    "    def cure(self, name:str):\n",
    "        index= self.find(self.all_players,name)\n",
    "        player= self.all_players[index]\n",
    "        print(\"医生去救了{}\". format(player))\n",
    "        self.players= list(set(self.players).union(set(list([player]))))\n",
    "        \n",
    "        \n",
    "    def day(self):\n",
    "        res= [input(\"投谁\") for i in range(0,len(self.players))]\n",
    "        print(res)\n",
    "        name= self.mode(res)\n",
    "        print(name)\n",
    "        self.murder(name)\n",
    "        \n",
    "    def night(self):\n",
    "        a=[]\n",
    "        \n",
    "        for i in range(len(self.players)):\n",
    "            if self.players[i].char==3:\n",
    "                name1= input(\"杀谁\")\n",
    "                a.append(name1)\n",
    "        \n",
    "        self.murder(self.mode(a))\n",
    "                \n",
    "        for i in range(len(self.players)):\n",
    "            if self.players[i].char==1:\n",
    "                name= input(\"看谁？\")\n",
    "                self.prophet(name)\n",
    "            \n",
    "        for i in range(len(self.players)):\n",
    "            try:\n",
    "                if self.players[i].char==2:\n",
    "                    name= input(\"谁？\")\n",
    "                    w= input(\"operate!\")\n",
    "                    if w == \"kill\":\n",
    "                        self.murder(name)\n",
    "                    elif w ==\"cure\":\n",
    "                        self.cure(name)\n",
    "            except:\n",
    "                break\n",
    "\n",
    "    \n",
    "    def win(self):\n",
    "        if self.villiger==0 or self.good==0:\n",
    "            print(\"wolves win!\")\n",
    "            return 0\n",
    "        \n",
    "        elif self.wolf==0:\n",
    "            print(\"people win!\")\n",
    "            return 3\n",
    "            \n",
    "        else:\n",
    "            return -1\n",
    "            \n",
    "    \n",
    "    def plays(self):\n",
    "        while self.win()==-1:\n",
    "            self.night()\n",
    "            print(\"白天到啦 剩余：%s\" % self.players)\n",
    "            self.day()"
   ]
  },
  {
   "cell_type": "code",
   "execution_count": 136,
   "metadata": {},
   "outputs": [],
   "source": [
    "x1= Person(\"sunshizhuo\",18,True)\n",
    "x2= Person(\"haowenbo\", 18, True)\n",
    "x3= Person(\"weizexuan\",18,True)\n",
    "x4= Person(\"yuyongtao\",18,True)\n",
    "x5= Person(\"zhoushang\",17, True)\n",
    "x6= Person(\"yuxiaorui\",18, False)\n",
    "x7= Person(\"hedao\", 18,True)\n",
    "x8= Person(\"公孙鞅\",18, True)\n",
    "x9= Person(\"惠施\", 18, True)\n",
    "x10= Person(\"庄周\",18, True)\n",
    "\n",
    "x= [x1,x2,x3,x4,x5,x6,x7,x8,x9,x10]"
   ]
  },
  {
   "cell_type": "code",
   "execution_count": 137,
   "metadata": {},
   "outputs": [],
   "source": [
    "g= murderer(10,x1,x2, x3,x4,x5,x6,x7,x8,x9,x10)"
   ]
  },
  {
   "cell_type": "code",
   "execution_count": 138,
   "metadata": {},
   "outputs": [
    {
     "data": {
      "text/plain": [
       "'wenbo'"
      ]
     },
     "execution_count": 138,
     "metadata": {},
     "output_type": "execute_result"
    }
   ],
   "source": [
    "g.mode([\"wenbo\"])"
   ]
  },
  {
   "cell_type": "code",
   "execution_count": 139,
   "metadata": {},
   "outputs": [
    {
     "data": {
      "text/plain": [
       "[名字: sunshizhuo, 男, 角色: 平民,\n",
       " 名字: haowenbo, 男, 角色: 平民,\n",
       " 名字: weizexuan, 男, 角色: 平民,\n",
       " 名字: yuyongtao, 男, 角色: 平民,\n",
       " 名字: zhoushang, 男, 角色: 巫师,\n",
       " 名字: yuxiaorui, 女, 角色: 预言家,\n",
       " 名字: hedao, 男, 角色: 预言家,\n",
       " 名字: 公孙鞅, 男, 角色: 狼人,\n",
       " 名字: 惠施, 男, 角色: 狼人,\n",
       " 名字: 庄周, 男, 角色: 狼人]"
      ]
     },
     "execution_count": 139,
     "metadata": {},
     "output_type": "execute_result"
    }
   ],
   "source": [
    "g.all_players"
   ]
  },
  {
   "cell_type": "code",
   "execution_count": 140,
   "metadata": {},
   "outputs": [
    {
     "data": {
      "text/plain": [
       "3"
      ]
     },
     "execution_count": 140,
     "metadata": {},
     "output_type": "execute_result"
    }
   ],
   "source": [
    "g.wolf"
   ]
  },
  {
   "cell_type": "code",
   "execution_count": 141,
   "metadata": {},
   "outputs": [
    {
     "name": "stdout",
     "output_type": "stream",
     "text": [
      "3\n",
      "3\n",
      "4\n"
     ]
    }
   ],
   "source": [
    "print(g.wolf)\n",
    "print(g.good)\n",
    "print(g.villiger)"
   ]
  },
  {
   "cell_type": "code",
   "execution_count": 142,
   "metadata": {},
   "outputs": [
    {
     "name": "stdout",
     "output_type": "stream",
     "text": [
      "杀谁sunshizhuo\n",
      "杀谁公孙鞅\n",
      "杀谁公孙鞅\n",
      "player: 名字: 公孙鞅, 男, 角色: 狼人 is murdered\n",
      "看谁？庄周\n",
      "他是的角色是狼人\n",
      "看谁？惠施\n",
      "他是的角色是狼人\n",
      "谁？庄周\n",
      "operate!kill\n",
      "player: 名字: 庄周, 男, 角色: 狼人 is murdered\n",
      "白天到啦 剩余：[名字: sunshizhuo, 男, 角色: 平民, 名字: haowenbo, 男, 角色: 平民, 名字: weizexuan, 男, 角色: 平民, 名字: yuyongtao, 男, 角色: 平民, 名字: zhoushang, 男, 角色: 巫师, 名字: yuxiaorui, 女, 角色: 预言家, 名字: hedao, 男, 角色: 预言家, 名字: 惠施, 男, 角色: 狼人]\n",
      "投谁惠施\n",
      "投谁惠施\n",
      "投谁惠施\n",
      "投谁惠施\n",
      "投谁惠施\n",
      "投谁惠施\n",
      "投谁惠施\n",
      "投谁惠施\n",
      "['惠施', '惠施', '惠施', '惠施', '惠施', '惠施', '惠施', '惠施']\n",
      "惠施\n",
      "player: 名字: 惠施, 男, 角色: 狼人 is murdered\n",
      "people win!\n"
     ]
    }
   ],
   "source": [
    "g.plays()"
   ]
  },
  {
   "cell_type": "code",
   "execution_count": null,
   "metadata": {},
   "outputs": [],
   "source": []
  },
  {
   "cell_type": "code",
   "execution_count": null,
   "metadata": {},
   "outputs": [],
   "source": []
  },
  {
   "cell_type": "code",
   "execution_count": null,
   "metadata": {},
   "outputs": [],
   "source": []
  },
  {
   "cell_type": "code",
   "execution_count": null,
   "metadata": {},
   "outputs": [],
   "source": []
  },
  {
   "cell_type": "code",
   "execution_count": null,
   "metadata": {},
   "outputs": [],
   "source": []
  }
 ],
 "metadata": {
  "kernelspec": {
   "display_name": "Python 3",
   "language": "python",
   "name": "python3"
  },
  "language_info": {
   "codemirror_mode": {
    "name": "ipython",
    "version": 3
   },
   "file_extension": ".py",
   "mimetype": "text/x-python",
   "name": "python",
   "nbconvert_exporter": "python",
   "pygments_lexer": "ipython3",
   "version": "3.7.4"
  }
 },
 "nbformat": 4,
 "nbformat_minor": 2
}
